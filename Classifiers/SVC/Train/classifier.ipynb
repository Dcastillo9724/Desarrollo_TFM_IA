{
 "cells": [
  {
   "cell_type": "code",
   "execution_count": 2,
   "metadata": {},
   "outputs": [],
   "source": [
    "import os\n",
    "import numpy as np\n",
    "from sklearn.model_selection import train_test_split\n",
    "from sklearn.svm import SVC\n",
    "from sklearn.metrics import accuracy_score, confusion_matrix, classification_report\n",
    "import joblib\n",
    "import matplotlib.pyplot as plt\n",
    "import seaborn as sns"
   ]
  },
  {
   "cell_type": "code",
   "execution_count": 14,
   "metadata": {},
   "outputs": [],
   "source": [
    "def cargar_datos(ruta_datos):\n",
    "    datos = []\n",
    "    etiquetas = []\n",
    "    categorias = os.listdir(ruta_datos)\n",
    "    categoria_a_numero = {categoria: i for i, categoria in enumerate(categorias)}\n",
    "\n",
    "    for categoria in categorias:\n",
    "        ruta_categoria = os.path.join(ruta_datos, categoria)\n",
    "        archivos_categoria = os.listdir(ruta_categoria)\n",
    "\n",
    "        for archivo in archivos_categoria:\n",
    "            ruta_archivo = os.path.join(ruta_categoria, archivo)\n",
    "            data = np.load(ruta_archivo)\n",
    "            datos.append(data)\n",
    "            etiquetas.append(categoria_a_numero[categoria])\n",
    "\n",
    "    longitud_minima = min(len(data) for data in datos)\n",
    "    datos_recortados = [data[:longitud_minima] for data in datos]\n",
    "\n",
    "    X = np.array(datos_recortados)\n",
    "    y = np.array(etiquetas)\n",
    "    return X, y"
   ]
  },
  {
   "cell_type": "code",
   "execution_count": 4,
   "metadata": {},
   "outputs": [],
   "source": [
    "def entrenar_modelo(X_train, y_train):\n",
    "    clf = SVC(kernel='linear')\n",
    "    clf.fit(X_train.reshape(X_train.shape[0], -1), y_train)\n",
    "    return clf"
   ]
  },
  {
   "cell_type": "code",
   "execution_count": 5,
   "metadata": {},
   "outputs": [],
   "source": [
    "def evaluar_modelo(clf, X_test, y_test):\n",
    "    y_pred = clf.predict(X_test.reshape(X_test.shape[0], -1))\n",
    "    precision = accuracy_score(y_test, y_pred)\n",
    "    matriz_confusion = confusion_matrix(y_test, y_pred)\n",
    "    reporte_clasificacion = classification_report(y_test, y_pred)\n",
    "    return precision, matriz_confusion, reporte_clasificacion"
   ]
  },
  {
   "cell_type": "code",
   "execution_count": 6,
   "metadata": {},
   "outputs": [],
   "source": [
    "def guardar_modelo(clf, ruta_modelo):\n",
    "    joblib.dump(clf, ruta_modelo)"
   ]
  },
  {
   "cell_type": "code",
   "execution_count": 13,
   "metadata": {},
   "outputs": [
    {
     "name": "stdout",
     "output_type": "stream",
     "text": [
      "{'barbell biceps curl': 0, 'bench press': 1, 'chest fly machine': 2, 'deadlift': 3, 'decline bench press': 4, 'hammer curl': 5, 'hip thrust': 6, 'incline bench press': 7, 'lat pulldown': 8, 'lateral raise': 9, 'leg extension': 10, 'leg raises': 11, 'plank': 12, 'pull Up': 13, 'push-up': 14, 'romanian deadlift': 15, 'russian twist': 16, 'shoulder press': 17, 'squat': 18, 't bar row': 19, 'tricep dips': 20, 'tricep Pushdown': 21}\n",
      "652\n",
      "652\n"
     ]
    }
   ],
   "source": [
    "# Obtener la ruta actual\n",
    "ruta_actual = os.getcwd()\n",
    "ruta_raiz = os.path.dirname(os.path.dirname(os.path.dirname(ruta_actual)))\n",
    "ruta_dataset = os.path.join(ruta_raiz, 'Data_Set')\n",
    "ruta_datos = os.path.join(ruta_dataset, 'numpy_procesado')\n",
    "\n",
    "X, y = cargar_datos(ruta_datos)\n",
    "X_train, X_test, y_train, y_test = train_test_split(X, y, test_size=0.2, random_state=42)\n",
    "\n",
    "clf = entrenar_modelo(X_train, y_train)\n",
    "precision, matriz_confusion, reporte_clasificacion = evaluar_modelo(clf, X_test, y_test)\n",
    "\n",
    "print(\"Precisión del clasificador:\", precision)\n",
    "\n",
    "print(\"\\nReporte de Clasificación:\")\n",
    "print(reporte_clasificacion)\n",
    "\n",
    "ruta_classifier= os.path.dirname(ruta_actual)\n",
    "ruta_modelo = os.path.join(ruta_classifier, 'Models', 'modelo_entrenado.pkl')\n",
    "guardar_modelo(clf, ruta_modelo)\n",
    "\n",
    "# Visualización de la matriz de confusión\n",
    "plt.figure(figsize=(8, 6))\n",
    "sns.heatmap(matriz_confusion, annot=True, cmap='Blues', fmt='g')\n",
    "plt.xlabel('Etiquetas Predichas')\n",
    "plt.ylabel('Etiquetas Verdaderas')\n",
    "plt.title('Matriz de Confusión')\n",
    "plt.show()"
   ]
  }
 ],
 "metadata": {
  "kernelspec": {
   "display_name": "Unir_TFM",
   "language": "python",
   "name": "python3"
  },
  "language_info": {
   "codemirror_mode": {
    "name": "ipython",
    "version": 3
   },
   "file_extension": ".py",
   "mimetype": "text/x-python",
   "name": "python",
   "nbconvert_exporter": "python",
   "pygments_lexer": "ipython3",
   "version": "3.12.3"
  }
 },
 "nbformat": 4,
 "nbformat_minor": 2
}
