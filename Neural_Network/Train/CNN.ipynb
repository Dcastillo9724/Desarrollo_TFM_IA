{
 "cells": [
  {
   "cell_type": "code",
   "execution_count": null,
   "metadata": {},
   "outputs": [],
   "source": [
    "import os\n",
    "import numpy as np\n",
    "from sklearn.model_selection import train_test_split\n",
    "from tensorflow.keras.models import Sequential\n",
    "from tensorflow.keras.layers import Conv2D, MaxPooling2D, Flatten, Dense\n",
    "from tensorflow.keras.utils import to_categorical"
   ]
  },
  {
   "cell_type": "code",
   "execution_count": null,
   "metadata": {},
   "outputs": [],
   "source": [
    "def cargar_datos_video(ruta_datos):\n",
    "    datos = []\n",
    "    etiquetas = []\n",
    "    categorias = os.listdir(ruta_datos)\n",
    "    categoria_a_numero = {categoria: i for i, categoria in enumerate(categorias)}\n",
    "    \n",
    "    for categoria in categorias:\n",
    "        ruta_categoria = os.path.join(ruta_datos, categoria)\n",
    "        archivos_categoria = os.listdir(ruta_categoria)\n",
    "\n",
    "        for archivo in archivos_categoria:\n",
    "            ruta_archivo = os.path.join(ruta_categoria, archivo)\n",
    "            cap = cv2.VideoCapture(ruta_archivo)\n",
    "            while True:\n",
    "                ret, frame = cap.read()\n",
    "                if not ret:\n",
    "                    break\n",
    "\n",
    "                datos.append(frame)\n",
    "                etiquetas.append(categoria_a_numero[categoria])\n",
    "            cap.release()\n",
    "\n",
    "    # Convertir listas de Python a arrays numpy\n",
    "    datos = np.array(datos)\n",
    "    etiquetas = np.array(etiquetas)\n",
    "\n",
    "    return datos, etiquetas"
   ]
  },
  {
   "cell_type": "code",
   "execution_count": null,
   "metadata": {},
   "outputs": [],
   "source": [
    "def cargar_datos_numpy(ruta_dataset):\n",
    "    X = []\n",
    "    y = []\n",
    "    categorias = os.listdir(ruta_dataset)\n",
    "\n",
    "    max_longitud = 0  # Variable para almacenar la longitud máxima encontrada\n",
    "\n",
    "    for categoria in categorias:\n",
    "        ruta_categoria = os.path.join(ruta_dataset, categoria)\n",
    "        archivos = os.listdir(ruta_categoria)\n",
    "\n",
    "        for archivo in archivos:\n",
    "            ruta_archivo = os.path.join(ruta_categoria, archivo)\n",
    "            datos = np.load(ruta_archivo)\n",
    "\n",
    "            # Obtener la longitud de la matriz actual y actualizar la longitud máxima si es necesario\n",
    "            longitud_actual = datos.shape[0]\n",
    "            max_longitud = max(max_longitud, longitud_actual)\n",
    "\n",
    "            X.append(datos)\n",
    "            y.append(categoria)\n",
    "\n",
    "    # Rellenar las matrices más cortas con ceros para que todas tengan la misma longitud\n",
    "    for i in range(len(X)):\n",
    "        longitud_actual = X[i].shape[0]\n",
    "        if longitud_actual < max_longitud:\n",
    "            # Crear una nueva matriz con ceros y copiar los datos existentes\n",
    "            nueva_matriz = np.zeros((max_longitud, X[i].shape[1]))\n",
    "            nueva_matriz[:longitud_actual, :] = X[i]\n",
    "            X[i] = nueva_matriz\n",
    "\n",
    "    return np.array(X), np.array(y)\n",
    "\n"
   ]
  },
  {
   "cell_type": "code",
   "execution_count": null,
   "metadata": {},
   "outputs": [],
   "source": [
    "# Función para preparar los datos para la CNN\n",
    "def preparar_datos(X, y):\n",
    "    X = X.reshape(X.shape[0], X.shape[1], X.shape[2], 1)  # Agregar una dimensión para los canales\n",
    "    X = X / 255.0  # Normalizar\n",
    "    y_numeros = {etiqueta: i for i, etiqueta in enumerate(np.unique(y))}\n",
    "    y_encoded = np.array([y_numeros[etiqueta] for etiqueta in y])\n",
    "    y_encoded = to_categorical(y_encoded)\n",
    "    X_train, X_test, y_train, y_test = train_test_split(X, y_encoded, test_size=0.2, random_state=42)\n",
    "    return X_train, X_test, y_train, y_test\n"
   ]
  },
  {
   "cell_type": "code",
   "execution_count": null,
   "metadata": {},
   "outputs": [],
   "source": [
    "# Obtener la ruta del directorio de datos\n",
    "ruta_actual = os.getcwd()\n",
    "ruta_raiz = os.path.dirname(os.path.dirname(ruta_actual))\n",
    "ruta_dataset = os.path.join(ruta_raiz, 'Data_Set')\n",
    "ruta_datos = os.path.join(ruta_dataset, 'numpy_procesado')\n",
    "\n",
    "\n",
    "# Cargar y preparar el dataset\n",
    "X, y = cargar_datos_numpy(os.path.join(ruta_dataset, 'numpy_procesado'))\n",
    "X_train, X_test, y_train, y_test = preparar_datos(X, y)\n",
    "\n",
    "# Definir arquitectura de la CNN\n",
    "model = Sequential([\n",
    "    Conv2D(32, kernel_size=(3, 3), activation='relu', input_shape=(X_train.shape[1], X_train.shape[2], 1)),\n",
    "    MaxPooling2D(pool_size=(2, 2)),\n",
    "    Conv2D(64, kernel_size=(3, 3), activation='relu'),\n",
    "    MaxPooling2D(pool_size=(2, 2)),\n",
    "    Flatten(),\n",
    "    Dense(128, activation='relu'),\n",
    "    Dense(len(np.unique(y)), activation='softmax')\n",
    "])\n",
    "\n",
    "# Compilar el modelo\n",
    "model.compile(optimizer='adam', loss='categorical_crossentropy', metrics=['accuracy'])\n",
    "\n",
    "# Entrenar el modelo\n",
    "model.fit(X_train, y_train, epochs=10, batch_size=32, validation_data=(X_test, y_test))"
   ]
  }
 ],
 "metadata": {
  "kernelspec": {
   "display_name": "Unir_TFM",
   "language": "python",
   "name": "python3"
  },
  "language_info": {
   "codemirror_mode": {
    "name": "ipython",
    "version": 3
   },
   "file_extension": ".py",
   "mimetype": "text/x-python",
   "name": "python",
   "nbconvert_exporter": "python",
   "pygments_lexer": "ipython3",
   "version": "3.12.3"
  }
 },
 "nbformat": 4,
 "nbformat_minor": 2
}
